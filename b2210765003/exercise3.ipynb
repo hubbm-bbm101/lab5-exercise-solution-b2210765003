{
 "cells": [
  {
   "cell_type": "code",
   "execution_count": null,
   "id": "28fc6106",
   "metadata": {},
   "outputs": [],
   "source": [
    "import random\n",
    "number = random.randint(0,100)\n",
    "\n",
    "while True:\n",
    "    guess =int(input(\"Number:\"))\n",
    "    if guess > number:\n",
    "        print(\"Decrease your number\")\n",
    "    elif guess < number:\n",
    "        print(\"İncrease your number\")\n",
    "    else: \n",
    "        print(\"Your guess is correct\")            \n",
    "        break    "
   ]
  }
 ],
 "metadata": {
  "kernelspec": {
   "display_name": "Python 3",
   "language": "python",
   "name": "python3"
  },
  "language_info": {
   "codemirror_mode": {
    "name": "ipython",
    "version": 3
   },
   "file_extension": ".py",
   "mimetype": "text/x-python",
   "name": "python",
   "nbconvert_exporter": "python",
   "pygments_lexer": "ipython3",
   "version": "3.8.8"
  }
 },
 "nbformat": 4,
 "nbformat_minor": 5
}
