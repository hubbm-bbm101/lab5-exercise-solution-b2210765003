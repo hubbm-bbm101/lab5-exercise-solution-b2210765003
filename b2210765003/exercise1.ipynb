{
 "cells": [
  {
   "cell_type": "code",
   "execution_count": null,
   "id": "327f02eb",
   "metadata": {},
   "outputs": [],
   "source": [
    "N = int(input(\"Numbers:\"))\n",
    "a = 0\n",
    "b = 0\n",
    "c = 0\n",
    "for i in range(1,N+1):\n",
    "    if i % 2 != 0:\n",
    "        a+=i\n",
    "        c+=1\n",
    "    else:\n",
    "        b+=i\n",
    "        c+=1\n",
    "        \n",
    "print(\"Sum of odd numbers:\",a)\n",
    "print(\"Average of even numbers\",b/c)"
   ]
  }
 ],
 "metadata": {
  "kernelspec": {
   "display_name": "Python 3",
   "language": "python",
   "name": "python3"
  },
  "language_info": {
   "codemirror_mode": {
    "name": "ipython",
    "version": 3
   },
   "file_extension": ".py",
   "mimetype": "text/x-python",
   "name": "python",
   "nbconvert_exporter": "python",
   "pygments_lexer": "ipython3",
   "version": "3.8.8"
  }
 },
 "nbformat": 4,
 "nbformat_minor": 5
}
