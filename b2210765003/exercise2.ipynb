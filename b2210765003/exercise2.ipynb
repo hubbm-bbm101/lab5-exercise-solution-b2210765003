{
 "cells": [
  {
   "cell_type": "code",
   "execution_count": null,
   "id": "bf6d3e1d",
   "metadata": {},
   "outputs": [],
   "source": [
    "a = input(\"e-mail:\")\n",
    "b = None\n",
    "c = None\n",
    "for i in a:\n",
    "    if i == \"@\":\n",
    "        b = 1\n",
    "    elif i == \".\":\n",
    "        c = 1 \n",
    "if b==1 and c ==1 :\n",
    "    print(True)\n",
    "else:\n",
    "    print(False)"
   ]
  }
 ],
 "metadata": {
  "kernelspec": {
   "display_name": "Python 3",
   "language": "python",
   "name": "python3"
  },
  "language_info": {
   "codemirror_mode": {
    "name": "ipython",
    "version": 3
   },
   "file_extension": ".py",
   "mimetype": "text/x-python",
   "name": "python",
   "nbconvert_exporter": "python",
   "pygments_lexer": "ipython3",
   "version": "3.8.8"
  }
 },
 "nbformat": 4,
 "nbformat_minor": 5
}
